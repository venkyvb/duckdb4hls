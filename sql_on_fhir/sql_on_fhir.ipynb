{
 "cells": [
  {
   "cell_type": "markdown",
   "id": "f90fd772-d60e-42ed-aca7-5eba54a02093",
   "metadata": {},
   "source": [
    "## Initial set-up"
   ]
  },
  {
   "cell_type": "code",
   "execution_count": null,
   "id": "903b950e-2273-48eb-9fe5-6ba25576a91c",
   "metadata": {},
   "outputs": [],
   "source": [
    "pip install duckdb"
   ]
  },
  {
   "cell_type": "code",
   "execution_count": null,
   "id": "9e489b22-2caf-46f1-9cd7-f4b3e30b8648",
   "metadata": {},
   "outputs": [],
   "source": [
    "pip install pandas "
   ]
  },
  {
   "cell_type": "code",
   "execution_count": null,
   "id": "2bb87b1a-d09b-4bdf-8758-711d5f1dfb50",
   "metadata": {},
   "outputs": [],
   "source": [
    "pip install ipython-sql"
   ]
  },
  {
   "cell_type": "code",
   "execution_count": null,
   "id": "946336f8-861d-44a1-9a03-d202e5c1c916",
   "metadata": {},
   "outputs": [],
   "source": [
    "pip install SQLAlchemy"
   ]
  },
  {
   "cell_type": "code",
   "execution_count": null,
   "id": "ca9617d7-9efe-45d8-bca5-a7324ec66150",
   "metadata": {},
   "outputs": [],
   "source": [
    "pip install duckdb-engine"
   ]
  },
  {
   "cell_type": "code",
   "execution_count": null,
   "id": "4eaa5eff-199b-4b1a-a578-cf9e13ab978d",
   "metadata": {},
   "outputs": [],
   "source": [
    "import duckdb\n",
    "import pandas as pd\n",
    "import sqlalchemy\n",
    "# No need to import duckdb_engine\n",
    "#  SQLAlchemy will auto-detect the driver needed based on your connection string!\n",
    "\n",
    "# Import ipython-sql Jupyter extension to create SQL cells\n",
    "%load_ext sql"
   ]
  },
  {
   "cell_type": "code",
   "execution_count": null,
   "id": "3af55bb5-8236-4efd-9924-7f254a9515ec",
   "metadata": {},
   "outputs": [],
   "source": [
    "%config SqlMagic.autopandas = True\n",
    "%config SqlMagic.feedback = False\n",
    "%config SqlMagic.displaycon = False"
   ]
  },
  {
   "cell_type": "markdown",
   "id": "375806ef-2e1b-424f-8172-98b9bd630000",
   "metadata": {},
   "source": [
    "## Instantiate duckdb in-memory"
   ]
  },
  {
   "cell_type": "code",
   "execution_count": null,
   "id": "6425e1c8-dc79-4b79-b8c5-fc062c3227c6",
   "metadata": {},
   "outputs": [],
   "source": [
    "%sql duckdb:///:memory:"
   ]
  },
  {
   "cell_type": "markdown",
   "id": "bbdf1387-5c9b-4463-b592-1c8ddf3fd838",
   "metadata": {},
   "source": [
    "## Install JSON extension"
   ]
  },
  {
   "cell_type": "markdown",
   "id": "b3f01ed8-2d7d-43c0-bff3-4f1f30fe8f3f",
   "metadata": {},
   "source": [
    "Since the FHIR resources are stored as JSON in a column and we want to query parts of the JSON we install the JSON extension."
   ]
  },
  {
   "cell_type": "code",
   "execution_count": null,
   "id": "6c5968ce-7eb1-46f0-ab70-64f69333edc5",
   "metadata": {},
   "outputs": [],
   "source": [
    "%%sql\n",
    "\n",
    "install 'json';\n",
    "load 'json';"
   ]
  },
  {
   "cell_type": "markdown",
   "id": "cf184041-855a-4147-bf53-2b8e8e6092b9",
   "metadata": {},
   "source": [
    "DuckDB can directly query parquet files with full support for SQL. No import of data necessary !"
   ]
  },
  {
   "cell_type": "code",
   "execution_count": null,
   "id": "db6c2d66-7328-44a7-bade-0736ae75460e",
   "metadata": {},
   "outputs": [],
   "source": [
    "%%sql\n",
    "select count(*) from 'resource-snappy.parquet';"
   ]
  },
  {
   "cell_type": "code",
   "execution_count": null,
   "id": "9b23d331-f331-4d11-a83e-5d31fb5b6399",
   "metadata": {},
   "outputs": [],
   "source": [
    "%%sql\n",
    "select * from 'resource-snappy.parquet' using sample 100;"
   ]
  },
  {
   "cell_type": "markdown",
   "id": "34b63d82-b7b7-4b87-b76a-9fa377b55d80",
   "metadata": {},
   "source": [
    "For convinience lets create a resource table and then import the parquet file into this table and then use the table to run SQL queries."
   ]
  },
  {
   "cell_type": "code",
   "execution_count": null,
   "id": "9bc14f32-999d-4139-b876-4d0b98995aac",
   "metadata": {},
   "outputs": [],
   "source": [
    "%%sql\n",
    "create table resource(id VARCHAR, resourceType VARCHAR, resourceJson JSON);"
   ]
  },
  {
   "cell_type": "code",
   "execution_count": null,
   "id": "b39bfdc9-e073-4654-b385-46f708aa2848",
   "metadata": {},
   "outputs": [],
   "source": [
    "%%sql\n",
    "INSERT INTO resource SELECT * FROM read_parquet('resource-snappy.parquet');"
   ]
  },
  {
   "cell_type": "code",
   "execution_count": null,
   "id": "cff47c1a-c37a-4ba3-ac1a-ce52bc0a2e0d",
   "metadata": {},
   "outputs": [],
   "source": [
    "%%sql\n",
    "select count(*) from resource where json_extract_string(resourceJson, '$.resourceType') = 'Observation' and json_extract_string(resourceJson, '$.category[0].coding[0].code') = 'laboratory';"
   ]
  },
  {
   "cell_type": "code",
   "execution_count": null,
   "id": "45d29558-ac65-4285-94d2-ef73f4d5057b",
   "metadata": {},
   "outputs": [],
   "source": [
    "%%sql\n",
    "select unnest(from_json(json_extract(resourceJson, '$.code.coding'), '[{\"system\":\"VARCHAR\", \"code\":\"VARCHAR\", \"display\":\"VARCHAR\"}]')) from resource using sample 100;"
   ]
  },
  {
   "cell_type": "code",
   "execution_count": null,
   "id": "f9a0d40a-c4d9-4f01-90f7-f8297c03a568",
   "metadata": {},
   "outputs": [],
   "source": [
    "%%sql\n",
    "select list_contains(list_transform(from_json(resourceJson ->> '$.code.coding', '[\"json\"]'), x -> json_extract_string(json(x), 'code')), '8302-2') from resource where json_extract_string(resourceJson, '$.resourceType') = 'Observation' and json_extract_string(resourceJson, '$.category[0].coding[0].code') = 'laboratory';"
   ]
  },
  {
   "cell_type": "code",
   "execution_count": null,
   "id": "81028806-f75f-48d0-892a-e280f7ee17f9",
   "metadata": {},
   "outputs": [],
   "source": [
    "%%sql\n",
    "select resourceJson  from resource where list_contains(list_transform(from_json(resourceJson ->> '$.code.coding', '[\"json\"]'), x -> json_extract_string(json(x), 'code')), '8302-2');"
   ]
  },
  {
   "cell_type": "markdown",
   "id": "107e149d-697e-4e6e-9ea7-f532661fb800",
   "metadata": {},
   "source": [
    "### SQL on FHIR using Parquet files"
   ]
  },
  {
   "cell_type": "code",
   "execution_count": null,
   "id": "bdec5236-5199-4f64-9b24-71a887a21128",
   "metadata": {},
   "outputs": [],
   "source": [
    "%%sql\n",
    "SELECT count(*) FROM read_parquet('./fhir_parquet/encounter/*.parquet');"
   ]
  },
  {
   "cell_type": "code",
   "execution_count": null,
   "id": "dfd35e0a-21ed-4540-8b61-5b9d83be6e91",
   "metadata": {},
   "outputs": [],
   "source": [
    "%%sql\n",
    "create table patient as SELECT * FROM read_parquet('./fhir_parquet/patient/*.parquet');"
   ]
  },
  {
   "cell_type": "code",
   "execution_count": null,
   "id": "9f34bb7e-7efd-4d25-abf3-df25376eea53",
   "metadata": {},
   "outputs": [],
   "source": [
    "%%sql\n",
    "create table observation as SELECT * FROM read_parquet('./fhir_parquet/observation/*.parquet');"
   ]
  },
  {
   "cell_type": "code",
   "execution_count": null,
   "id": "c45bfd69-e841-4be4-9722-90532ea2af0e",
   "metadata": {},
   "outputs": [],
   "source": [
    "%%sql\n",
    "create table condition as SELECT * FROM read_parquet('./fhir_parquet/condition/*.parquet');"
   ]
  },
  {
   "cell_type": "code",
   "execution_count": null,
   "id": "a4c4475a-8335-4f1a-8c40-564739b20cf2",
   "metadata": {},
   "outputs": [],
   "source": [
    "%%sql\n",
    "WITH coding as (SELECT UNNEST(observation.code.coding) c from observation)\n",
    "SELECT subject.reference,\n",
    "    AVG(value.quantity.value) avg_hdl\n",
    "FROM observation o, coding\n",
    "WHERE c.system = 'http://loinc.org' AND\n",
    "    c.code = '2085-9' AND\n",
    "      o.effective.datetime > '2017'\n",
    "GROUP BY subject.reference;"
   ]
  },
  {
   "cell_type": "code",
   "execution_count": null,
   "id": "2259c403-e420-403a-83be-26cc8eb78bb3",
   "metadata": {},
   "outputs": [],
   "source": [
    "%%sql\n",
    "WITH coding as (SELECT UNNEST(observation.code.coding) c from observation),\n",
    "vscte as (SELECT UNNEST(condition.verificationstatus.coding) vs from condition), \n",
    "\n",
    "-- Create a view of patients with a diabetes condition (prediabetes or diabetes)\n",
    "diabetics as (\n",
    "  SELECT DISTINCT subject.reference person_ref\n",
    "  FROM condition, coding, vscte\n",
    "  WHERE vs.code = 'confirmed' AND\n",
    "        c.system = 'http://snomed.info/sct' AND\n",
    "        (c.code = '15777000' OR \n",
    "         c.code = '44054006') \n",
    "),\n",
    "\n",
    "-- Create a view of all HbA1c values.\n",
    "hba1c_values as (\n",
    "  SELECT subject.reference person_ref,\n",
    "         value.quantity.value,\n",
    "         value.quantity.unit,\n",
    "         c.system,\n",
    "         c.code,\n",
    "         c.display,    \n",
    "         o.effective.dateTime as effectivedatetime\n",
    "  FROM observation o, coding\n",
    "  WHERE c.system = 'http://loinc.org' AND\n",
    "        c.code = '4548-4' AND\n",
    "        status = 'final'\n",
    "\n",
    ")\n",
    "\n",
    "-- Use the above views to find diabetics who have had a\n",
    "-- high HbA1c value since the start of say 2017\n",
    "SELECT d.person_ref,\n",
    "       h.value,\n",
    "       h.display,\n",
    "       h.effectivedatetime\n",
    "FROM diabetics d\n",
    "JOIN hba1c_values h ON d.person_ref = h.person_ref\n",
    "WHERE h.value > 6.5 AND\n",
    "      h.effectivedatetime > '2017';"
   ]
  },
  {
   "cell_type": "code",
   "execution_count": null,
   "id": "9e1791ce-e62c-4b42-845c-b08a79eef2fe",
   "metadata": {},
   "outputs": [],
   "source": []
  }
 ],
 "metadata": {
  "kernelspec": {
   "display_name": "Python 3 (ipykernel)",
   "language": "python",
   "name": "python3"
  },
  "language_info": {
   "codemirror_mode": {
    "name": "ipython",
    "version": 3
   },
   "file_extension": ".py",
   "mimetype": "text/x-python",
   "name": "python",
   "nbconvert_exporter": "python",
   "pygments_lexer": "ipython3",
   "version": "3.9.12"
  }
 },
 "nbformat": 4,
 "nbformat_minor": 5
}
