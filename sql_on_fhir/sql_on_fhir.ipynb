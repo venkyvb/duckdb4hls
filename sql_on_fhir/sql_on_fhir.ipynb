{
 "cells": [
  {
   "cell_type": "markdown",
   "id": "f90fd772-d60e-42ed-aca7-5eba54a02093",
   "metadata": {},
   "source": [
    "## Initial set-up"
   ]
  },
  {
   "cell_type": "code",
   "execution_count": 2,
   "id": "903b950e-2273-48eb-9fe5-6ba25576a91c",
   "metadata": {},
   "outputs": [
    {
     "name": "stdout",
     "output_type": "stream",
     "text": [
      "Requirement already satisfied: duckdb in c:\\users\\venkib\\miniconda3\\lib\\site-packages (0.5.0)\n",
      "Requirement already satisfied: numpy>=1.14 in c:\\users\\venkib\\miniconda3\\lib\\site-packages (from duckdb) (1.23.3)\n",
      "Note: you may need to restart the kernel to use updated packages.\n"
     ]
    }
   ],
   "source": [
    "pip install duckdb"
   ]
  },
  {
   "cell_type": "code",
   "execution_count": 3,
   "id": "9e489b22-2caf-46f1-9cd7-f4b3e30b8648",
   "metadata": {},
   "outputs": [
    {
     "name": "stdout",
     "output_type": "stream",
     "text": [
      "Requirement already satisfied: pandas in c:\\users\\venkib\\miniconda3\\lib\\site-packages (1.4.4)\n",
      "Requirement already satisfied: python-dateutil>=2.8.1 in c:\\users\\venkib\\miniconda3\\lib\\site-packages (from pandas) (2.8.2)\n",
      "Requirement already satisfied: pytz>=2020.1 in c:\\users\\venkib\\miniconda3\\lib\\site-packages (from pandas) (2022.2.1)\n",
      "Requirement already satisfied: numpy>=1.18.5 in c:\\users\\venkib\\miniconda3\\lib\\site-packages (from pandas) (1.23.3)\n",
      "Requirement already satisfied: six>=1.5 in c:\\users\\venkib\\miniconda3\\lib\\site-packages (from python-dateutil>=2.8.1->pandas) (1.16.0)\n",
      "Note: you may need to restart the kernel to use updated packages.\n"
     ]
    }
   ],
   "source": [
    "pip install pandas "
   ]
  },
  {
   "cell_type": "code",
   "execution_count": 4,
   "id": "2bb87b1a-d09b-4bdf-8758-711d5f1dfb50",
   "metadata": {},
   "outputs": [
    {
     "name": "stdout",
     "output_type": "stream",
     "text": [
      "Requirement already satisfied: ipython-sql in c:\\users\\venkib\\miniconda3\\lib\\site-packages (0.4.1)Note: you may need to restart the kernel to use updated packages.\n",
      "\n",
      "Requirement already satisfied: sqlalchemy>=0.6.7 in c:\\users\\venkib\\miniconda3\\lib\\site-packages (from ipython-sql) (1.4.41)\n",
      "Requirement already satisfied: six in c:\\users\\venkib\\miniconda3\\lib\\site-packages (from ipython-sql) (1.16.0)\n",
      "Requirement already satisfied: ipython-genutils>=0.1.0 in c:\\users\\venkib\\miniconda3\\lib\\site-packages (from ipython-sql) (0.2.0)\n",
      "Requirement already satisfied: prettytable<1 in c:\\users\\venkib\\miniconda3\\lib\\site-packages (from ipython-sql) (0.7.2)\n",
      "Requirement already satisfied: ipython>=1.0 in c:\\users\\venkib\\miniconda3\\lib\\site-packages (from ipython-sql) (8.5.0)\n",
      "Requirement already satisfied: sqlparse in c:\\users\\venkib\\miniconda3\\lib\\site-packages (from ipython-sql) (0.4.2)\n",
      "Requirement already satisfied: traitlets>=5 in c:\\users\\venkib\\miniconda3\\lib\\site-packages (from ipython>=1.0->ipython-sql) (5.4.0)\n",
      "Requirement already satisfied: decorator in c:\\users\\venkib\\miniconda3\\lib\\site-packages (from ipython>=1.0->ipython-sql) (5.1.1)\n",
      "Requirement already satisfied: matplotlib-inline in c:\\users\\venkib\\miniconda3\\lib\\site-packages (from ipython>=1.0->ipython-sql) (0.1.6)\n",
      "Requirement already satisfied: pygments>=2.4.0 in c:\\users\\venkib\\miniconda3\\lib\\site-packages (from ipython>=1.0->ipython-sql) (2.13.0)\n",
      "Requirement already satisfied: backcall in c:\\users\\venkib\\miniconda3\\lib\\site-packages (from ipython>=1.0->ipython-sql) (0.2.0)\n",
      "Requirement already satisfied: stack-data in c:\\users\\venkib\\miniconda3\\lib\\site-packages (from ipython>=1.0->ipython-sql) (0.5.0)\n",
      "Requirement already satisfied: pickleshare in c:\\users\\venkib\\miniconda3\\lib\\site-packages (from ipython>=1.0->ipython-sql) (0.7.5)\n",
      "Requirement already satisfied: jedi>=0.16 in c:\\users\\venkib\\miniconda3\\lib\\site-packages (from ipython>=1.0->ipython-sql) (0.18.1)\n",
      "Requirement already satisfied: colorama in c:\\users\\venkib\\miniconda3\\lib\\site-packages (from ipython>=1.0->ipython-sql) (0.4.4)\n",
      "Requirement already satisfied: prompt-toolkit<3.1.0,>3.0.1 in c:\\users\\venkib\\miniconda3\\lib\\site-packages (from ipython>=1.0->ipython-sql) (3.0.31)\n",
      "Requirement already satisfied: parso<0.9.0,>=0.8.0 in c:\\users\\venkib\\miniconda3\\lib\\site-packages (from jedi>=0.16->ipython>=1.0->ipython-sql) (0.8.3)\n",
      "Requirement already satisfied: wcwidth in c:\\users\\venkib\\miniconda3\\lib\\site-packages (from prompt-toolkit<3.1.0,>3.0.1->ipython>=1.0->ipython-sql) (0.2.5)\n",
      "Requirement already satisfied: greenlet!=0.4.17 in c:\\users\\venkib\\miniconda3\\lib\\site-packages (from sqlalchemy>=0.6.7->ipython-sql) (1.1.3)\n",
      "Requirement already satisfied: pure-eval in c:\\users\\venkib\\miniconda3\\lib\\site-packages (from stack-data->ipython>=1.0->ipython-sql) (0.2.2)\n",
      "Requirement already satisfied: executing in c:\\users\\venkib\\miniconda3\\lib\\site-packages (from stack-data->ipython>=1.0->ipython-sql) (1.0.0)\n",
      "Requirement already satisfied: asttokens in c:\\users\\venkib\\miniconda3\\lib\\site-packages (from stack-data->ipython>=1.0->ipython-sql) (2.0.8)\n"
     ]
    }
   ],
   "source": [
    "pip install ipython-sql"
   ]
  },
  {
   "cell_type": "code",
   "execution_count": 5,
   "id": "946336f8-861d-44a1-9a03-d202e5c1c916",
   "metadata": {},
   "outputs": [
    {
     "name": "stdout",
     "output_type": "stream",
     "text": [
      "Requirement already satisfied: SQLAlchemy in c:\\users\\venkib\\miniconda3\\lib\\site-packages (1.4.41)\n",
      "Requirement already satisfied: greenlet!=0.4.17 in c:\\users\\venkib\\miniconda3\\lib\\site-packages (from SQLAlchemy) (1.1.3)\n",
      "Note: you may need to restart the kernel to use updated packages.\n"
     ]
    }
   ],
   "source": [
    "pip install SQLAlchemy"
   ]
  },
  {
   "cell_type": "code",
   "execution_count": 6,
   "id": "ca9617d7-9efe-45d8-bca5-a7324ec66150",
   "metadata": {},
   "outputs": [
    {
     "name": "stdout",
     "output_type": "stream",
     "text": [
      "Requirement already satisfied: duckdb-engine in c:\\users\\venkib\\miniconda3\\lib\\site-packages (0.6.4)\n",
      "Requirement already satisfied: sqlalchemy<2.0.0,>=1.3.19 in c:\\users\\venkib\\miniconda3\\lib\\site-packages (from duckdb-engine) (1.4.41)\n",
      "Requirement already satisfied: numpy in c:\\users\\venkib\\miniconda3\\lib\\site-packages (from duckdb-engine) (1.23.3)\n",
      "Requirement already satisfied: duckdb>=0.4.0 in c:\\users\\venkib\\miniconda3\\lib\\site-packages (from duckdb-engine) (0.5.0)\n",
      "Requirement already satisfied: greenlet!=0.4.17 in c:\\users\\venkib\\miniconda3\\lib\\site-packages (from sqlalchemy<2.0.0,>=1.3.19->duckdb-engine) (1.1.3)\n",
      "Note: you may need to restart the kernel to use updated packages.\n"
     ]
    }
   ],
   "source": [
    "pip install duckdb-engine"
   ]
  },
  {
   "cell_type": "code",
   "execution_count": 7,
   "id": "4eaa5eff-199b-4b1a-a578-cf9e13ab978d",
   "metadata": {},
   "outputs": [],
   "source": [
    "import duckdb\n",
    "import pandas as pd\n",
    "import sqlalchemy\n",
    "# No need to import duckdb_engine\n",
    "#  SQLAlchemy will auto-detect the driver needed based on your connection string!\n",
    "\n",
    "# Import ipython-sql Jupyter extension to create SQL cells\n",
    "%load_ext sql"
   ]
  },
  {
   "cell_type": "code",
   "execution_count": 8,
   "id": "3af55bb5-8236-4efd-9924-7f254a9515ec",
   "metadata": {},
   "outputs": [],
   "source": [
    "%config SqlMagic.autopandas = True\n",
    "%config SqlMagic.feedback = False\n",
    "%config SqlMagic.displaycon = False"
   ]
  },
  {
   "cell_type": "markdown",
   "id": "375806ef-2e1b-424f-8172-98b9bd630000",
   "metadata": {},
   "source": [
    "## Instantiate duckdb in-memory"
   ]
  },
  {
   "cell_type": "code",
   "execution_count": 9,
   "id": "6425e1c8-dc79-4b79-b8c5-fc062c3227c6",
   "metadata": {},
   "outputs": [],
   "source": [
    "%sql duckdb:///:memory:"
   ]
  },
  {
   "cell_type": "markdown",
   "id": "bbdf1387-5c9b-4463-b592-1c8ddf3fd838",
   "metadata": {},
   "source": [
    "## Install JSON extension"
   ]
  },
  {
   "cell_type": "markdown",
   "id": "b3f01ed8-2d7d-43c0-bff3-4f1f30fe8f3f",
   "metadata": {},
   "source": [
    "Since the FHIR resources are stored as JSON in a column and we want to query parts of the JSON we install the JSON extension."
   ]
  },
  {
   "cell_type": "code",
   "execution_count": 10,
   "id": "6c5968ce-7eb1-46f0-ab70-64f69333edc5",
   "metadata": {},
   "outputs": [
    {
     "data": {
      "text/html": [
       "<div>\n",
       "<style scoped>\n",
       "    .dataframe tbody tr th:only-of-type {\n",
       "        vertical-align: middle;\n",
       "    }\n",
       "\n",
       "    .dataframe tbody tr th {\n",
       "        vertical-align: top;\n",
       "    }\n",
       "\n",
       "    .dataframe thead th {\n",
       "        text-align: right;\n",
       "    }\n",
       "</style>\n",
       "<table border=\"1\" class=\"dataframe\">\n",
       "  <thead>\n",
       "    <tr style=\"text-align: right;\">\n",
       "      <th></th>\n",
       "    </tr>\n",
       "  </thead>\n",
       "  <tbody>\n",
       "  </tbody>\n",
       "</table>\n",
       "</div>"
      ],
      "text/plain": [
       "Empty DataFrame\n",
       "Columns: []\n",
       "Index: []"
      ]
     },
     "execution_count": 10,
     "metadata": {},
     "output_type": "execute_result"
    }
   ],
   "source": [
    "%%sql\n",
    "\n",
    "install 'json';\n",
    "load 'json';"
   ]
  },
  {
   "cell_type": "markdown",
   "id": "cf184041-855a-4147-bf53-2b8e8e6092b9",
   "metadata": {},
   "source": [
    "DuckDB can directly query parquet files with full support for SQL. No import of data necessary !"
   ]
  },
  {
   "cell_type": "code",
   "execution_count": 12,
   "id": "db6c2d66-7328-44a7-bade-0736ae75460e",
   "metadata": {},
   "outputs": [
    {
     "data": {
      "text/html": [
       "<div>\n",
       "<style scoped>\n",
       "    .dataframe tbody tr th:only-of-type {\n",
       "        vertical-align: middle;\n",
       "    }\n",
       "\n",
       "    .dataframe tbody tr th {\n",
       "        vertical-align: top;\n",
       "    }\n",
       "\n",
       "    .dataframe thead th {\n",
       "        text-align: right;\n",
       "    }\n",
       "</style>\n",
       "<table border=\"1\" class=\"dataframe\">\n",
       "  <thead>\n",
       "    <tr style=\"text-align: right;\">\n",
       "      <th></th>\n",
       "      <th>count_star()</th>\n",
       "    </tr>\n",
       "  </thead>\n",
       "  <tbody>\n",
       "    <tr>\n",
       "      <th>0</th>\n",
       "      <td>374130</td>\n",
       "    </tr>\n",
       "  </tbody>\n",
       "</table>\n",
       "</div>"
      ],
      "text/plain": [
       "   count_star()\n",
       "0        374130"
      ]
     },
     "execution_count": 12,
     "metadata": {},
     "output_type": "execute_result"
    }
   ],
   "source": [
    "%%sql\n",
    "select count(*) from 'resource-snappy.parquet';"
   ]
  },
  {
   "cell_type": "code",
   "execution_count": 22,
   "id": "9b23d331-f331-4d11-a83e-5d31fb5b6399",
   "metadata": {},
   "outputs": [
    {
     "data": {
      "text/html": [
       "<div>\n",
       "<style scoped>\n",
       "    .dataframe tbody tr th:only-of-type {\n",
       "        vertical-align: middle;\n",
       "    }\n",
       "\n",
       "    .dataframe tbody tr th {\n",
       "        vertical-align: top;\n",
       "    }\n",
       "\n",
       "    .dataframe thead th {\n",
       "        text-align: right;\n",
       "    }\n",
       "</style>\n",
       "<table border=\"1\" class=\"dataframe\">\n",
       "  <thead>\n",
       "    <tr style=\"text-align: right;\">\n",
       "      <th></th>\n",
       "      <th>id</th>\n",
       "      <th>resourceType</th>\n",
       "      <th>resourceJson</th>\n",
       "    </tr>\n",
       "  </thead>\n",
       "  <tbody>\n",
       "    <tr>\n",
       "      <th>0</th>\n",
       "      <td>1013cd60-5b76-4172-b341-1cdb737ed03a</td>\n",
       "      <td>Observation</td>\n",
       "      <td>{\"resourceType\":\"Observation\",\"id\":\"1013cd60-5...</td>\n",
       "    </tr>\n",
       "    <tr>\n",
       "      <th>1</th>\n",
       "      <td>0fcc56e0-d83d-4bcd-8f30-9c80dc001c44</td>\n",
       "      <td>Observation</td>\n",
       "      <td>{\"resourceType\":\"Observation\",\"id\":\"0fcc56e0-d...</td>\n",
       "    </tr>\n",
       "    <tr>\n",
       "      <th>2</th>\n",
       "      <td>76db7004-db0e-47ff-a1e7-6263c31b4cf1</td>\n",
       "      <td>MedicationRequest</td>\n",
       "      <td>{\"resourceType\":\"MedicationRequest\",\"id\":\"76db...</td>\n",
       "    </tr>\n",
       "    <tr>\n",
       "      <th>3</th>\n",
       "      <td>f7bc081c-60c2-4efc-9d45-d4755a83a35b</td>\n",
       "      <td>Encounter</td>\n",
       "      <td>{\"resourceType\":\"Encounter\",\"id\":\"f7bc081c-60c...</td>\n",
       "    </tr>\n",
       "    <tr>\n",
       "      <th>4</th>\n",
       "      <td>7dcee691-5e87-4f3d-ad49-58e425f842c9</td>\n",
       "      <td>Claim</td>\n",
       "      <td>{\"resourceType\":\"Claim\",\"id\":\"7dcee691-5e87-4f...</td>\n",
       "    </tr>\n",
       "    <tr>\n",
       "      <th>...</th>\n",
       "      <td>...</td>\n",
       "      <td>...</td>\n",
       "      <td>...</td>\n",
       "    </tr>\n",
       "    <tr>\n",
       "      <th>95</th>\n",
       "      <td>243604f3-6807-433e-bd94-016da7dd2238</td>\n",
       "      <td>CarePlan</td>\n",
       "      <td>{\"resourceType\":\"CarePlan\",\"id\":\"243604f3-6807...</td>\n",
       "    </tr>\n",
       "    <tr>\n",
       "      <th>96</th>\n",
       "      <td>230712a1-f819-4511-90a8-af33f3f9b3fa</td>\n",
       "      <td>Claim</td>\n",
       "      <td>{\"resourceType\":\"Claim\",\"id\":\"230712a1-f819-45...</td>\n",
       "    </tr>\n",
       "    <tr>\n",
       "      <th>97</th>\n",
       "      <td>b922a762-27df-4c4d-8df6-49f1e8b2a1b4</td>\n",
       "      <td>Observation</td>\n",
       "      <td>{\"resourceType\":\"Observation\",\"id\":\"b922a762-2...</td>\n",
       "    </tr>\n",
       "    <tr>\n",
       "      <th>98</th>\n",
       "      <td>6731ccf5-1133-4d1b-91cc-7eaf41cef2d4</td>\n",
       "      <td>Encounter</td>\n",
       "      <td>{\"resourceType\":\"Encounter\",\"id\":\"6731ccf5-113...</td>\n",
       "    </tr>\n",
       "    <tr>\n",
       "      <th>99</th>\n",
       "      <td>936f2e96-da54-495b-a3ea-d697ab837650</td>\n",
       "      <td>Observation</td>\n",
       "      <td>{\"resourceType\":\"Observation\",\"id\":\"936f2e96-d...</td>\n",
       "    </tr>\n",
       "  </tbody>\n",
       "</table>\n",
       "<p>100 rows × 3 columns</p>\n",
       "</div>"
      ],
      "text/plain": [
       "                                      id       resourceType  \\\n",
       "0   1013cd60-5b76-4172-b341-1cdb737ed03a        Observation   \n",
       "1   0fcc56e0-d83d-4bcd-8f30-9c80dc001c44        Observation   \n",
       "2   76db7004-db0e-47ff-a1e7-6263c31b4cf1  MedicationRequest   \n",
       "3   f7bc081c-60c2-4efc-9d45-d4755a83a35b          Encounter   \n",
       "4   7dcee691-5e87-4f3d-ad49-58e425f842c9              Claim   \n",
       "..                                   ...                ...   \n",
       "95  243604f3-6807-433e-bd94-016da7dd2238           CarePlan   \n",
       "96  230712a1-f819-4511-90a8-af33f3f9b3fa              Claim   \n",
       "97  b922a762-27df-4c4d-8df6-49f1e8b2a1b4        Observation   \n",
       "98  6731ccf5-1133-4d1b-91cc-7eaf41cef2d4          Encounter   \n",
       "99  936f2e96-da54-495b-a3ea-d697ab837650        Observation   \n",
       "\n",
       "                                         resourceJson  \n",
       "0   {\"resourceType\":\"Observation\",\"id\":\"1013cd60-5...  \n",
       "1   {\"resourceType\":\"Observation\",\"id\":\"0fcc56e0-d...  \n",
       "2   {\"resourceType\":\"MedicationRequest\",\"id\":\"76db...  \n",
       "3   {\"resourceType\":\"Encounter\",\"id\":\"f7bc081c-60c...  \n",
       "4   {\"resourceType\":\"Claim\",\"id\":\"7dcee691-5e87-4f...  \n",
       "..                                                ...  \n",
       "95  {\"resourceType\":\"CarePlan\",\"id\":\"243604f3-6807...  \n",
       "96  {\"resourceType\":\"Claim\",\"id\":\"230712a1-f819-45...  \n",
       "97  {\"resourceType\":\"Observation\",\"id\":\"b922a762-2...  \n",
       "98  {\"resourceType\":\"Encounter\",\"id\":\"6731ccf5-113...  \n",
       "99  {\"resourceType\":\"Observation\",\"id\":\"936f2e96-d...  \n",
       "\n",
       "[100 rows x 3 columns]"
      ]
     },
     "execution_count": 22,
     "metadata": {},
     "output_type": "execute_result"
    }
   ],
   "source": [
    "%%sql\n",
    "select * from 'resource-snappy.parquet' using sample 100;"
   ]
  },
  {
   "cell_type": "markdown",
   "id": "34b63d82-b7b7-4b87-b76a-9fa377b55d80",
   "metadata": {},
   "source": [
    "For convinience lets create a resource table and then import the parquet file into this table and then use the table to run SQL queries."
   ]
  },
  {
   "cell_type": "code",
   "execution_count": 14,
   "id": "9bc14f32-999d-4139-b876-4d0b98995aac",
   "metadata": {},
   "outputs": [
    {
     "data": {
      "text/html": [
       "<div>\n",
       "<style scoped>\n",
       "    .dataframe tbody tr th:only-of-type {\n",
       "        vertical-align: middle;\n",
       "    }\n",
       "\n",
       "    .dataframe tbody tr th {\n",
       "        vertical-align: top;\n",
       "    }\n",
       "\n",
       "    .dataframe thead th {\n",
       "        text-align: right;\n",
       "    }\n",
       "</style>\n",
       "<table border=\"1\" class=\"dataframe\">\n",
       "  <thead>\n",
       "    <tr style=\"text-align: right;\">\n",
       "      <th></th>\n",
       "    </tr>\n",
       "  </thead>\n",
       "  <tbody>\n",
       "  </tbody>\n",
       "</table>\n",
       "</div>"
      ],
      "text/plain": [
       "Empty DataFrame\n",
       "Columns: []\n",
       "Index: []"
      ]
     },
     "execution_count": 14,
     "metadata": {},
     "output_type": "execute_result"
    }
   ],
   "source": [
    "%%sql\n",
    "create table resource(id VARCHAR, resourceType VARCHAR, resourceJson JSON);"
   ]
  },
  {
   "cell_type": "code",
   "execution_count": 18,
   "id": "b39bfdc9-e073-4654-b385-46f708aa2848",
   "metadata": {},
   "outputs": [
    {
     "data": {
      "text/html": [
       "<div>\n",
       "<style scoped>\n",
       "    .dataframe tbody tr th:only-of-type {\n",
       "        vertical-align: middle;\n",
       "    }\n",
       "\n",
       "    .dataframe tbody tr th {\n",
       "        vertical-align: top;\n",
       "    }\n",
       "\n",
       "    .dataframe thead th {\n",
       "        text-align: right;\n",
       "    }\n",
       "</style>\n",
       "<table border=\"1\" class=\"dataframe\">\n",
       "  <thead>\n",
       "    <tr style=\"text-align: right;\">\n",
       "      <th></th>\n",
       "      <th>Count</th>\n",
       "    </tr>\n",
       "  </thead>\n",
       "  <tbody>\n",
       "    <tr>\n",
       "      <th>0</th>\n",
       "      <td>374130</td>\n",
       "    </tr>\n",
       "  </tbody>\n",
       "</table>\n",
       "</div>"
      ],
      "text/plain": [
       "    Count\n",
       "0  374130"
      ]
     },
     "execution_count": 18,
     "metadata": {},
     "output_type": "execute_result"
    }
   ],
   "source": [
    "%%sql\n",
    "INSERT INTO resource SELECT * FROM read_parquet('resource-snappy.parquet');"
   ]
  },
  {
   "cell_type": "code",
   "execution_count": 19,
   "id": "cff47c1a-c37a-4ba3-ac1a-ce52bc0a2e0d",
   "metadata": {},
   "outputs": [
    {
     "data": {
      "text/html": [
       "<div>\n",
       "<style scoped>\n",
       "    .dataframe tbody tr th:only-of-type {\n",
       "        vertical-align: middle;\n",
       "    }\n",
       "\n",
       "    .dataframe tbody tr th {\n",
       "        vertical-align: top;\n",
       "    }\n",
       "\n",
       "    .dataframe thead th {\n",
       "        text-align: right;\n",
       "    }\n",
       "</style>\n",
       "<table border=\"1\" class=\"dataframe\">\n",
       "  <thead>\n",
       "    <tr style=\"text-align: right;\">\n",
       "      <th></th>\n",
       "      <th>count_star()</th>\n",
       "    </tr>\n",
       "  </thead>\n",
       "  <tbody>\n",
       "    <tr>\n",
       "      <th>0</th>\n",
       "      <td>117050</td>\n",
       "    </tr>\n",
       "  </tbody>\n",
       "</table>\n",
       "</div>"
      ],
      "text/plain": [
       "   count_star()\n",
       "0        117050"
      ]
     },
     "execution_count": 19,
     "metadata": {},
     "output_type": "execute_result"
    }
   ],
   "source": [
    "%%sql\n",
    "select count(*) from resource where json_extract_string(resourceJson, '$.resourceType') = 'Observation' and json_extract_string(resourceJson, '$.category[0].coding[0].code') = 'laboratory';"
   ]
  },
  {
   "cell_type": "code",
   "execution_count": 21,
   "id": "45d29558-ac65-4285-94d2-ef73f4d5057b",
   "metadata": {},
   "outputs": [
    {
     "data": {
      "text/html": [
       "<div>\n",
       "<style scoped>\n",
       "    .dataframe tbody tr th:only-of-type {\n",
       "        vertical-align: middle;\n",
       "    }\n",
       "\n",
       "    .dataframe tbody tr th {\n",
       "        vertical-align: top;\n",
       "    }\n",
       "\n",
       "    .dataframe thead th {\n",
       "        text-align: right;\n",
       "    }\n",
       "</style>\n",
       "<table border=\"1\" class=\"dataframe\">\n",
       "  <thead>\n",
       "    <tr style=\"text-align: right;\">\n",
       "      <th></th>\n",
       "      <th>unnest(from_json(json_extract(\"resourceJson\", '$.code.coding'), '[{\"system\":\"VARCHAR\", \"code\":\"VARCHAR\", \"display\":\"VARCHAR\"}]'))</th>\n",
       "    </tr>\n",
       "  </thead>\n",
       "  <tbody>\n",
       "    <tr>\n",
       "      <th>0</th>\n",
       "      <td>{'system': 'http://loinc.org', 'code': '29463-...</td>\n",
       "    </tr>\n",
       "    <tr>\n",
       "      <th>1</th>\n",
       "      <td>{'system': 'http://loinc.org', 'code': '72514-...</td>\n",
       "    </tr>\n",
       "    <tr>\n",
       "      <th>2</th>\n",
       "      <td>{'system': 'http://loinc.org', 'code': '29463-...</td>\n",
       "    </tr>\n",
       "    <tr>\n",
       "      <th>3</th>\n",
       "      <td>{'system': 'http://loinc.org', 'code': '1920-8...</td>\n",
       "    </tr>\n",
       "    <tr>\n",
       "      <th>4</th>\n",
       "      <td>{'system': 'http://loinc.org', 'code': '6299-2...</td>\n",
       "    </tr>\n",
       "    <tr>\n",
       "      <th>...</th>\n",
       "      <td>...</td>\n",
       "    </tr>\n",
       "    <tr>\n",
       "      <th>61</th>\n",
       "      <td>{'system': 'http://loinc.org', 'code': '29463-...</td>\n",
       "    </tr>\n",
       "    <tr>\n",
       "      <th>62</th>\n",
       "      <td>{'system': 'http://loinc.org', 'code': '59576-...</td>\n",
       "    </tr>\n",
       "    <tr>\n",
       "      <th>63</th>\n",
       "      <td>{'system': 'http://loinc.org', 'code': '2947-0...</td>\n",
       "    </tr>\n",
       "    <tr>\n",
       "      <th>64</th>\n",
       "      <td>{'system': 'http://loinc.org', 'code': '55284-...</td>\n",
       "    </tr>\n",
       "    <tr>\n",
       "      <th>65</th>\n",
       "      <td>{'system': 'http://loinc.org', 'code': '6768-6...</td>\n",
       "    </tr>\n",
       "  </tbody>\n",
       "</table>\n",
       "<p>66 rows × 1 columns</p>\n",
       "</div>"
      ],
      "text/plain": [
       "   unnest(from_json(json_extract(\"resourceJson\", '$.code.coding'), '[{\"system\":\"VARCHAR\", \"code\":\"VARCHAR\", \"display\":\"VARCHAR\"}]'))\n",
       "0   {'system': 'http://loinc.org', 'code': '29463-...                                                                               \n",
       "1   {'system': 'http://loinc.org', 'code': '72514-...                                                                               \n",
       "2   {'system': 'http://loinc.org', 'code': '29463-...                                                                               \n",
       "3   {'system': 'http://loinc.org', 'code': '1920-8...                                                                               \n",
       "4   {'system': 'http://loinc.org', 'code': '6299-2...                                                                               \n",
       "..                                                ...                                                                               \n",
       "61  {'system': 'http://loinc.org', 'code': '29463-...                                                                               \n",
       "62  {'system': 'http://loinc.org', 'code': '59576-...                                                                               \n",
       "63  {'system': 'http://loinc.org', 'code': '2947-0...                                                                               \n",
       "64  {'system': 'http://loinc.org', 'code': '55284-...                                                                               \n",
       "65  {'system': 'http://loinc.org', 'code': '6768-6...                                                                               \n",
       "\n",
       "[66 rows x 1 columns]"
      ]
     },
     "execution_count": 21,
     "metadata": {},
     "output_type": "execute_result"
    }
   ],
   "source": [
    "%%sql\n",
    "select unnest(from_json(json_extract(resourceJson, '$.code.coding'), '[{\"system\":\"VARCHAR\", \"code\":\"VARCHAR\", \"display\":\"VARCHAR\"}]')) from resource using sample 100;"
   ]
  },
  {
   "cell_type": "markdown",
   "id": "db898478-e310-4f31-8004-864f0c2be086",
   "metadata": {},
   "source": [
    "## More to come..."
   ]
  },
  {
   "cell_type": "code",
   "execution_count": null,
   "id": "f9a0d40a-c4d9-4f01-90f7-f8297c03a568",
   "metadata": {},
   "outputs": [],
   "source": []
  }
 ],
 "metadata": {
  "kernelspec": {
   "display_name": "Python 3 (ipykernel)",
   "language": "python",
   "name": "python3"
  },
  "language_info": {
   "codemirror_mode": {
    "name": "ipython",
    "version": 3
   },
   "file_extension": ".py",
   "mimetype": "text/x-python",
   "name": "python",
   "nbconvert_exporter": "python",
   "pygments_lexer": "ipython3",
   "version": "3.9.12"
  }
 },
 "nbformat": 4,
 "nbformat_minor": 5
}
